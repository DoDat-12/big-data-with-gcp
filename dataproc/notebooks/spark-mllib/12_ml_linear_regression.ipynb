{
 "cells": [
  {
   "cell_type": "markdown",
   "metadata": {},
   "source": [
    "## Linear Regression"
   ]
  },
  {
   "cell_type": "markdown",
   "metadata": {},
   "source": [
    "### Predicting total amount"
   ]
  },
  {
   "cell_type": "code",
   "execution_count": null,
   "metadata": {
    "vscode": {
     "languageId": "plaintext"
    }
   },
   "outputs": [],
   "source": [
    "# Import Libraries\n",
    "from pyspark.sql import SparkSession\n",
    "from pyspark.sql import functions as F\n",
    "from pyspark.sql.functions import *\n",
    "from pyspark.sql.types import *\n",
    "from pyspark.ml.feature import VectorAssembler\n",
    "from pyspark.ml.evaluation import RegressionEvaluator\n",
    "from pyspark.ml.regression import LinearRegression"
   ]
  },
  {
   "cell_type": "code",
   "execution_count": null,
   "metadata": {
    "vscode": {
     "languageId": "plaintext"
    }
   },
   "outputs": [],
   "source": [
    "# Create SparkSession\n",
    "spark = SparkSession.builder \\\n",
    "    .appName(\"TLC Linear Regression) \\\n",
    "    .getOrCreate()"
   ]
  },
  {
   "cell_type": "code",
   "execution_count": null,
   "metadata": {
    "vscode": {
     "languageId": "plaintext"
    }
   },
   "outputs": [],
   "source": [
    "# Path lists\n",
    "fact_trip = \"hdfs://10.128.0.59:8020/data_warehouse/fact_trip\"\n",
    "dim_datetime = \"hdfs://10.128.0.59:8020/data_warehouse/dim_datetime\"\n",
    "\n",
    "output = \"uber-analysis-439804.query_result.model_evaluation\""
   ]
  },
  {
   "cell_type": "code",
   "execution_count": null,
   "metadata": {
    "vscode": {
     "languageId": "plaintext"
    }
   },
   "outputs": [],
   "source": [
    "df_fact = spark.read \\\n",
    "    .format(\"parquet\") \\\n",
    "    .option(\"path\", fact_trip) \\\n",
    "    .load()\n",
    "\n",
    "df_datetime = spark.read \\\n",
    "    .format(\"parquet\") \\\n",
    "    .option(\"path\", dim_datetime) \\\n",
    "    .load() \\\n",
    "    .select(\n",
    "        \"datetime_id\",\n",
    "        \"pick_hour\",\n",
    "        \"pick_weekday_id\",\n",
    "        \"drop_hour\",\n",
    "        \"drop_weekday_id\"\n",
    "    )\n",
    "\n",
    "df_joined = df_fact \\\n",
    "    .join(\n",
    "        df_datetime,\n",
    "        df_fact.datetimestamp_id == df_datetime.datetime_id,\n",
    "        \"inner\"\n",
    "    ) \\\n",
    "    .drop(\n",
    "        \"datetimestamp_id\", \n",
    "        \"datetime_id\"\n",
    "    )\n",
    "\n",
    "df_joined.printSchema()"
   ]
  },
  {
   "cell_type": "code",
   "execution_count": null,
   "metadata": {
    "vscode": {
     "languageId": "plaintext"
    }
   },
   "outputs": [],
   "source": [
    "selected_columns = [\n",
    "    \"vendor_id\",\n",
    "    \"pu_location_id\",\n",
    "    \"do_location_id\",\n",
    "    \"ratecode_id\",\n",
    "    \"payment_id\",\n",
    "    \"passenger_count\",\n",
    "    \"trip_distance\",\n",
    "    \"fare_amount\",\n",
    "    \"extra\",\n",
    "    \"mta_tax\",\n",
    "    \"tip_amount\",\n",
    "    \"tolls_amount\",\n",
    "    \"pick_hour\",\n",
    "    \"pick_weekday_id\",\n",
    "    \"drop_hour\",\n",
    "    \"drop_weekday_id\"\n",
    "]\n",
    "\n",
    "assembler = VectorAssembler(\n",
    "    inputCols=selected_columns,\n",
    "    outputCol=\"features\"\n",
    ")\n",
    "\n",
    "data_transformed = assembler.transform(df_joined)"
   ]
  },
  {
   "cell_type": "code",
   "execution_count": null,
   "metadata": {
    "vscode": {
     "languageId": "plaintext"
    }
   },
   "outputs": [],
   "source": [
    "# Split dataset\n",
    "train_data, test_data = data_transformed.randomSplit([0.8, 0.2], seed=1234)"
   ]
  },
  {
   "cell_type": "code",
   "execution_count": null,
   "metadata": {
    "vscode": {
     "languageId": "plaintext"
    }
   },
   "outputs": [],
   "source": [
    "# Linear Regression\n",
    "lr_model = LinearRegression(\n",
    "    featuresCol=\"features\", \n",
    "    labelCol=\"total_amount\"\n",
    ")\n",
    "\n",
    "# Train model\n",
    "trained_model = lr_model.fit(train_data)\n",
    "\n",
    "# Testing\n",
    "predictions = trained_model.transform(test_data)"
   ]
  },
  {
   "cell_type": "code",
   "execution_count": null,
   "metadata": {
    "vscode": {
     "languageId": "plaintext"
    }
   },
   "outputs": [],
   "source": [
    "# Evaluation\n",
    "rmse_evaluator = RegressionEvaluator(\n",
    "    labelCol=\"total_amount\", \n",
    "    predictionCol=\"prediction\", \n",
    "    metricName=\"rmse\"\n",
    ")\n",
    "\n",
    "mae_evaluator = RegressionEvaluator(\n",
    "    labelCol=\"total_amount\", \n",
    "    predictionCol=\"prediction\", \n",
    "    metricName=\"mae\"\n",
    ")\n",
    "\n",
    "r2_evaluator = RegressionEvaluator(\n",
    "    labelCol=\"total_amount\", \n",
    "    predictionCol=\"prediction\", \n",
    "    metricName=\"r2\"\n",
    ")\n",
    "\n",
    "rmse = rmse_evaluator.evaluate(predictions)\n",
    "mae = mae_evaluator.evaluate(predictions)\n",
    "r2 = r2_evaluator.evaluate(predictions)"
   ]
  },
  {
   "cell_type": "code",
   "execution_count": null,
   "metadata": {
    "vscode": {
     "languageId": "plaintext"
    }
   },
   "outputs": [],
   "source": [
    "print(\"Linear Regression Model Performance:\")\n",
    "print(f\" RMSE: {rmse}\")\n",
    "print(f\" MAE: {mae}\")\n",
    "print(f\" R²: {r2}\")"
   ]
  },
  {
   "cell_type": "code",
   "execution_count": null,
   "metadata": {
    "vscode": {
     "languageId": "plaintext"
    }
   },
   "outputs": [],
   "source": [
    "# Store in BigQuery\n",
    "evaluation_data = spark.createDataframe([\n",
    "    Row(name=\"Linear Regression\", rmse=rmse, mae=mae, r2=r2)\n",
    "])\n",
    "\n",
    "evaluation_data.show()\n",
    "\n",
    "evaluation_data.write \\\n",
    "    .format(\"bigquery\") \\\n",
    "    .option(\"table\", output) \\\n",
    "    .option(\"temporaryGcsBucket\", \"uber-pyspark-jobs/temp\") \\\n",
    "    .mode(\"overwrite\") \\\n",
    "    .save()"
   ]
  },
  {
   "cell_type": "code",
   "execution_count": null,
   "metadata": {
    "vscode": {
     "languageId": "plaintext"
    }
   },
   "outputs": [],
   "source": []
  }
 ],
 "metadata": {
  "language_info": {
   "name": "python"
  }
 },
 "nbformat": 4,
 "nbformat_minor": 2
}
